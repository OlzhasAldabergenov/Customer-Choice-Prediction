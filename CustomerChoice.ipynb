{
 "cells": [
  {
   "cell_type": "markdown",
   "metadata": {},
   "source": [
    "# 0. Predict customer's choice\n",
    "\n",
    "Objective: To anticipate the choice of a passenger based on the search and booking of air tickets."
   ]
  },
  {
   "cell_type": "markdown",
   "metadata": {},
   "source": [
    "I want to note right away that before preprocessing the data, I went through the fields and selected only those that are more or less relevant to the task. And I did not include this selection process in this report."
   ]
  },
  {
   "cell_type": "markdown",
   "metadata": {},
   "source": [
    "# 1. Loading dataset"
   ]
  },
  {
   "cell_type": "code",
   "execution_count": 1,
   "metadata": {},
   "outputs": [
    {
     "name": "stderr",
     "output_type": "stream",
     "text": [
      "/anaconda3/lib/python3.6/site-packages/IPython/core/interactiveshell.py:3058: DtypeWarning: Columns (14,16,17) have mixed types. Specify dtype option on import or set low_memory=False.\n",
      "  interactivity=interactivity, compiler=compiler, result=result)\n"
     ]
    }
   ],
   "source": [
    "import pandas as pd\n",
    "from sqlalchemy import create_engine\n",
    "\n",
    "date_columns = ['search_datetime', 'flight_date']\n",
    "dtype_dic = {'search_type':'category', 'routes':'category', 'provider':'category', 'origin_country':'category',\n",
    "           'destination_country':'category', 'cabin_class':'category'}\n",
    "aviata = pd.read_csv('aviata.csv', parse_dates=date_columns, dtype=dtype_dic)"
   ]
  },
  {
   "cell_type": "markdown",
   "metadata": {},
   "source": [
    "# 2. Preprocessing"
   ]
  },
  {
   "cell_type": "markdown",
   "metadata": {},
   "source": [
    "As it turned out later, I do not need two more fields. I removed these fields. And set a filter so as not to skip lines\n",
    "which have a value of '\\\\ N'. This is a necessary step for the fields (original_amount, is_owc, is_direct) to wrap dtype int and float. And before that they had a mixed type."
   ]
  },
  {
   "cell_type": "code",
   "execution_count": 2,
   "metadata": {},
   "outputs": [],
   "source": [
    "aviata.drop(['Unnamed: 0', 'offers_count'], axis=1, inplace=True)\n",
    "aviata_cln = aviata[(aviata.original_amount != '\\\\N') & (aviata.is_owc != '\\\\N') & (aviata.is_direct != '\\\\N')]\n",
    "aviata_cln = aviata_cln.astype({'original_amount': 'float32', 'is_owc': 'int8', 'is_direct':'int8'})\n"
   ]
  },
  {
   "cell_type": "markdown",
   "metadata": {},
   "source": [
    "We have departure dates and flight search dates. In order for this data to bring maximum benefit, we must convert\n",
    "date in an understandable language for the machine. "
   ]
  },
  {
   "cell_type": "code",
   "execution_count": 16,
   "metadata": {},
   "outputs": [],
   "source": [
    "aviata_cln[\"search_year\"] = aviata_cln[\"search_datetime\"].dt.year  \n",
    "aviata_cln[\"search_month\"] = aviata_cln[\"search_datetime\"].dt.month\n",
    "\n",
    "aviata_cln[\"flight_year\"] = aviata_cln[\"flight_date\"].dt.year  \n",
    "aviata_cln[\"flight_month\"] = aviata_cln[\"flight_date\"].dt.month"
   ]
  },
  {
   "cell_type": "markdown",
   "metadata": {},
   "source": [
    "Same thing with fields that are of type category. They must also have a numerical value."
   ]
  },
  {
   "cell_type": "code",
   "execution_count": 23,
   "metadata": {},
   "outputs": [],
   "source": [
    "aviata_cln[\"search_type_code\"] = aviata_cln[\"search_type\"].cat.codes\n",
    "aviata_cln[\"routes_code\"] = aviata_cln[\"routes\"].cat.codes\n",
    "aviata_cln[\"provider_code\"] = aviata_cln[\"provider\"].cat.codes\n",
    "aviata_cln[\"origin_country_code\"] = aviata_cln[\"origin_country\"].cat.codes\n",
    "aviata_cln[\"destination_country_code\"] = aviata_cln[\"destination_country\"].cat.codes\n",
    "aviata_cln[\"cabin_class_code\"] = aviata_cln[\"cabin_class\"].cat.codes\n"
   ]
  },
  {
   "cell_type": "markdown",
   "metadata": {},
   "source": [
    "Now we leave only the fields that the machine will understand."
   ]
  },
  {
   "cell_type": "code",
   "execution_count": 30,
   "metadata": {},
   "outputs": [],
   "source": [
    "aviata_read = aviata_cln[['pass_adt', 'pass_child', 'pass_inf', 'pass_stud', 'original_amount','is_owc','is_direct', 'is_booked', \n",
    "                          'search_year', 'search_month', 'flight_year', 'flight_month', 'search_type_code', 'routes_code','provider_code', 'origin_country_code', 'destination_country_code', 'cabin_class_code']]"
   ]
  },
  {
   "cell_type": "markdown",
   "metadata": {},
   "source": [
    "Checking how balanced our data is. We see that is_booked 0 has a lot more lines that can lead\n",
    "to the fact that the machine will cast its voice to the side that has more lines. "
   ]
  },
  {
   "cell_type": "code",
   "execution_count": 40,
   "metadata": {},
   "outputs": [
    {
     "data": {
      "text/plain": [
       "0    2394275\n",
       "1     135204\n",
       "Name: is_booked, dtype: int64"
      ]
     },
     "execution_count": 40,
     "metadata": {},
     "output_type": "execute_result"
    }
   ],
   "source": [
    "aviata_read.is_booked.value_counts()"
   ]
  },
  {
   "cell_type": "markdown",
   "metadata": {},
   "source": [
    "Balancing process:"
   ]
  },
  {
   "cell_type": "code",
   "execution_count": 44,
   "metadata": {},
   "outputs": [],
   "source": [
    "import numpy as np\n",
    "\n",
    "bkn = aviata_read[aviata_read.is_booked == 1]\n",
    "nbkn = aviata_read[aviata_read.is_booked == 0].index\n",
    "\n",
    "indx = np.random.choice(nbkn, bkn.shape[0], replace=False)\n",
    "nnkn_sample = aviata_read.loc[indx]\n",
    "\n",
    "aviata_balanced = pd.concat([bkn, nnkn_sample], axis=0)\n",
    "aviata_balanced = aviata_balanced.sample(frac=1).reset_index(drop=True)"
   ]
  },
  {
   "cell_type": "code",
   "execution_count": 45,
   "metadata": {},
   "outputs": [
    {
     "data": {
      "text/plain": [
       "1    135204\n",
       "0    135204\n",
       "Name: is_booked, dtype: int64"
      ]
     },
     "execution_count": 45,
     "metadata": {},
     "output_type": "execute_result"
    }
   ],
   "source": [
    "aviata_balanced.is_booked.value_counts()"
   ]
  },
  {
   "cell_type": "markdown",
   "metadata": {},
   "source": [
    "We divide the data into X and y."
   ]
  },
  {
   "cell_type": "code",
   "execution_count": 46,
   "metadata": {},
   "outputs": [],
   "source": [
    "X_data = aviata_balanced.loc[:, aviata_balanced.columns != 'is_booked']\n",
    "y_data = aviata_balanced.loc[:, aviata_balanced.columns == 'is_booked']"
   ]
  },
  {
   "cell_type": "markdown",
   "metadata": {},
   "source": [
    "# 3.Training and testing RandomForestClassifier"
   ]
  },
  {
   "cell_type": "code",
   "execution_count": 79,
   "metadata": {},
   "outputs": [],
   "source": [
    "from sklearn.preprocessing import StandardScaler\n",
    "\n",
    "scaler = StandardScaler()\n",
    "X_data = scaler.fit_transform(X_data)\n"
   ]
  },
  {
   "cell_type": "code",
   "execution_count": 80,
   "metadata": {},
   "outputs": [
    {
     "name": "stderr",
     "output_type": "stream",
     "text": [
      "/anaconda3/lib/python3.6/site-packages/sklearn/ensemble/forest.py:245: FutureWarning: The default value of n_estimators will change from 10 in version 0.20 to 100 in 0.22.\n",
      "  \"10 in version 0.20 to 100 in 0.22.\", FutureWarning)\n",
      "/anaconda3/lib/python3.6/site-packages/ipykernel_launcher.py:14: DataConversionWarning: A column-vector y was passed when a 1d array was expected. Please change the shape of y to (n_samples,), for example using ravel().\n",
      "  \n"
     ]
    },
    {
     "name": "stdout",
     "output_type": "stream",
     "text": [
      "F1:  0.8318204324145897\n",
      "Accuracy 0.8191177775805449\n"
     ]
    }
   ],
   "source": [
    "from sklearn.ensemble import RandomForestClassifier\n",
    "from sklearn.model_selection import train_test_split\n",
    "from sklearn.metrics import f1_score\n",
    "from sklearn.metrics import accuracy_score\n",
    "from sklearn.decomposition import PCA\n",
    "\n",
    "\n",
    "X_train, X_test, y_train, y_test = train_test_split(X_data, y_data, test_size=0.25, random_state=42)\n",
    "pca = PCA(n_components=13)  \n",
    "X_train = pca.fit_transform(X_train)  \n",
    "X_test = pca.transform(X_test)\n",
    "\n",
    "rfc = RandomForestClassifier(max_depth=15, random_state=0)  \n",
    "rfc.fit(X_train, y_train)\n",
    "\n",
    "y_pred = rfc.predict(X_test)\n",
    "\n",
    "print('F1: ', f1_score(y_test, y_pred))  \n",
    "print('Accuracy', accuracy_score(y_test, y_pred))"
   ]
  },
  {
   "cell_type": "markdown",
   "metadata": {},
   "source": [
    "# 4. GridSearchCV - CrossValidation"
   ]
  },
  {
   "cell_type": "code",
   "execution_count": 73,
   "metadata": {},
   "outputs": [
    {
     "name": "stdout",
     "output_type": "stream",
     "text": [
      "Fitting 3 folds for each of 12 candidates, totalling 36 fits\n"
     ]
    },
    {
     "name": "stderr",
     "output_type": "stream",
     "text": [
      "[Parallel(n_jobs=-1)]: Using backend LokyBackend with 4 concurrent workers.\n",
      "[Parallel(n_jobs=-1)]: Done  36 out of  36 | elapsed: 16.9min finished\n",
      "/anaconda3/lib/python3.6/site-packages/sklearn/model_selection/_search.py:715: DataConversionWarning: A column-vector y was passed when a 1d array was expected. Please change the shape of y to (n_samples,), for example using ravel().\n",
      "  self.best_estimator_.fit(X, y, **fit_params)\n"
     ]
    },
    {
     "name": "stdout",
     "output_type": "stream",
     "text": [
      "F1:  0.834438353542672\n",
      "Accuracy 0.8208484956066389\n"
     ]
    }
   ],
   "source": [
    "from sklearn.model_selection import GridSearchCV\n",
    "\n",
    "param_grid = {\n",
    "    'bootstrap': [True],\n",
    "    'max_depth': [10, 15, 40],\n",
    "    'max_features': [2, 3],\n",
    "    'n_estimators': [100, 200]\n",
    "}\n",
    "\n",
    "rfc = RandomForestClassifier()\n",
    "grid_search = GridSearchCV(estimator = rfc, param_grid = param_grid, cv = 3, n_jobs = -1, verbose = 2)\n",
    "grid_search.fit(X_train, y_train)\n",
    "grid_search.best_params_\n",
    "model = grid_search.best_estimator_\n",
    "y_pred = model.predict(X_test)\n",
    "\n",
    "print('F1: ', f1_score(y_test, y_pred))  \n",
    "print('Accuracy', accuracy_score(y_test, y_pred))"
   ]
  },
  {
   "cell_type": "markdown",
   "metadata": {},
   "source": [
    "# 5. Logistic Regression - GridSearcgCV"
   ]
  },
  {
   "cell_type": "code",
   "execution_count": 76,
   "metadata": {},
   "outputs": [
    {
     "name": "stdout",
     "output_type": "stream",
     "text": [
      "Fitting 3 folds for each of 20 candidates, totalling 60 fits\n"
     ]
    },
    {
     "name": "stderr",
     "output_type": "stream",
     "text": [
      "[Parallel(n_jobs=-1)]: Using backend LokyBackend with 4 concurrent workers.\n",
      "[Parallel(n_jobs=-1)]: Done  33 tasks      | elapsed:   13.4s\n",
      "[Parallel(n_jobs=-1)]: Done  60 out of  60 | elapsed:   18.9s finished\n",
      "/anaconda3/lib/python3.6/site-packages/sklearn/linear_model/logistic.py:432: FutureWarning: Default solver will be changed to 'lbfgs' in 0.22. Specify a solver to silence this warning.\n",
      "  FutureWarning)\n",
      "/anaconda3/lib/python3.6/site-packages/sklearn/utils/validation.py:724: DataConversionWarning: A column-vector y was passed when a 1d array was expected. Please change the shape of y to (n_samples, ), for example using ravel().\n",
      "  y = column_or_1d(y, warn=True)\n"
     ]
    },
    {
     "name": "stdout",
     "output_type": "stream",
     "text": [
      "F1:  0.7800263023698972\n",
      "Accuracy 0.7575219668057158\n"
     ]
    }
   ],
   "source": [
    "from sklearn.linear_model import LogisticRegression\n",
    "\n",
    "param_grid = {\n",
    "    'penalty': ['l1', 'l2'],\n",
    "    'C': np.logspace(0, 3, 10),\n",
    "}\n",
    "\n",
    "log = LogisticRegression()\n",
    "grid_search = GridSearchCV(estimator = log, param_grid = param_grid, cv = 3, n_jobs = -1, verbose = 2)\n",
    "grid_search.fit(X_train, y_train)\n",
    "grid_search.best_params_\n",
    "model = grid_search.best_estimator_\n",
    "y_pred = model.predict(X_test)\n",
    "\n",
    "print('F1: ', f1_score(y_test, y_pred))  \n",
    "print('Accuracy', accuracy_score(y_test, y_pred))"
   ]
  },
  {
   "cell_type": "code",
   "execution_count": null,
   "metadata": {},
   "outputs": [],
   "source": []
  }
 ],
 "metadata": {
  "anaconda-cloud": {},
  "kernelspec": {
   "display_name": "Python 3",
   "language": "python",
   "name": "python3"
  },
  "language_info": {
   "codemirror_mode": {
    "name": "ipython",
    "version": 3
   },
   "file_extension": ".py",
   "mimetype": "text/x-python",
   "name": "python",
   "nbconvert_exporter": "python",
   "pygments_lexer": "ipython3",
   "version": "3.6.7"
  }
 },
 "nbformat": 4,
 "nbformat_minor": 2
}
